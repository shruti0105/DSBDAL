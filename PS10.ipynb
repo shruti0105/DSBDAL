{
 "cells": [
  {
   "cell_type": "code",
   "execution_count": 1,
   "id": "dca1941a",
   "metadata": {},
   "outputs": [],
   "source": [
    "import nltk"
   ]
  },
  {
   "cell_type": "code",
   "execution_count": 2,
   "id": "842a7ec3",
   "metadata": {},
   "outputs": [
    {
     "name": "stderr",
     "output_type": "stream",
     "text": [
      "[nltk_data] Downloading package punkt to\n",
      "[nltk_data]     C:\\Users\\Shreya\\AppData\\Roaming\\nltk_data...\n",
      "[nltk_data]   Package punkt is already up-to-date!\n"
     ]
    },
    {
     "data": {
      "text/plain": [
       "True"
      ]
     },
     "execution_count": 2,
     "metadata": {},
     "output_type": "execute_result"
    }
   ],
   "source": [
    "nltk.download(\"punkt\")"
   ]
  },
  {
   "cell_type": "code",
   "execution_count": 3,
   "id": "352df573",
   "metadata": {},
   "outputs": [
    {
     "name": "stderr",
     "output_type": "stream",
     "text": [
      "[nltk_data] Downloading package omw-1.4 to\n",
      "[nltk_data]     C:\\Users\\Shreya\\AppData\\Roaming\\nltk_data...\n",
      "[nltk_data]   Package omw-1.4 is already up-to-date!\n"
     ]
    },
    {
     "data": {
      "text/plain": [
       "True"
      ]
     },
     "execution_count": 3,
     "metadata": {},
     "output_type": "execute_result"
    }
   ],
   "source": [
    "nltk.download(\"omw-1.4\")"
   ]
  },
  {
   "cell_type": "code",
   "execution_count": 4,
   "id": "a35d6250",
   "metadata": {},
   "outputs": [
    {
     "name": "stderr",
     "output_type": "stream",
     "text": [
      "[nltk_data] Downloading package stopwords to\n",
      "[nltk_data]     C:\\Users\\Shreya\\AppData\\Roaming\\nltk_data...\n",
      "[nltk_data]   Package stopwords is already up-to-date!\n"
     ]
    },
    {
     "data": {
      "text/plain": [
       "True"
      ]
     },
     "execution_count": 4,
     "metadata": {},
     "output_type": "execute_result"
    }
   ],
   "source": [
    "nltk.download(\"stopwords\")"
   ]
  },
  {
   "cell_type": "code",
   "execution_count": 5,
   "id": "9657fb1c",
   "metadata": {},
   "outputs": [
    {
     "name": "stderr",
     "output_type": "stream",
     "text": [
      "[nltk_data] Downloading package wordnet to\n",
      "[nltk_data]     C:\\Users\\Shreya\\AppData\\Roaming\\nltk_data...\n",
      "[nltk_data]   Package wordnet is already up-to-date!\n"
     ]
    },
    {
     "data": {
      "text/plain": [
       "True"
      ]
     },
     "execution_count": 5,
     "metadata": {},
     "output_type": "execute_result"
    }
   ],
   "source": [
    "nltk.download(\"wordnet\")"
   ]
  },
  {
   "cell_type": "code",
   "execution_count": 6,
   "id": "384d5ad1",
   "metadata": {},
   "outputs": [
    {
     "name": "stderr",
     "output_type": "stream",
     "text": [
      "[nltk_data] Downloading package averaged_perceptron_tagger to\n",
      "[nltk_data]     C:\\Users\\Shreya\\AppData\\Roaming\\nltk_data...\n",
      "[nltk_data]   Package averaged_perceptron_tagger is already up-to-\n",
      "[nltk_data]       date!\n"
     ]
    },
    {
     "data": {
      "text/plain": [
       "True"
      ]
     },
     "execution_count": 6,
     "metadata": {},
     "output_type": "execute_result"
    }
   ],
   "source": [
    "nltk.download(\"averaged_perceptron_tagger\")"
   ]
  },
  {
   "cell_type": "code",
   "execution_count": 11,
   "id": "3c37b1fc",
   "metadata": {},
   "outputs": [],
   "source": [
    "text=\"Data science is a very useful language which is used to get awesome insights into the data for company profit. Data is useful\""
   ]
  },
  {
   "cell_type": "code",
   "execution_count": 12,
   "id": "71e05eeb",
   "metadata": {},
   "outputs": [
    {
     "data": {
      "text/plain": [
       "['Data science is a very useful language which is used to get awesome insights into the data for company profit.',\n",
       " 'Data is useful']"
      ]
     },
     "execution_count": 12,
     "metadata": {},
     "output_type": "execute_result"
    }
   ],
   "source": [
    "from nltk import word_tokenize\n",
    "from nltk import sent_tokenize\n",
    "\n",
    "sent=sent_tokenize(text)\n",
    "sent"
   ]
  },
  {
   "cell_type": "code",
   "execution_count": 14,
   "id": "5585103a",
   "metadata": {},
   "outputs": [
    {
     "data": {
      "text/plain": [
       "['Data',\n",
       " 'science',\n",
       " 'is',\n",
       " 'a',\n",
       " 'very',\n",
       " 'useful',\n",
       " 'language',\n",
       " 'which',\n",
       " 'is',\n",
       " 'used',\n",
       " 'to',\n",
       " 'get',\n",
       " 'awesome',\n",
       " 'insights',\n",
       " 'into',\n",
       " 'the',\n",
       " 'data',\n",
       " 'for',\n",
       " 'company',\n",
       " 'profit',\n",
       " '.',\n",
       " 'Data',\n",
       " 'is',\n",
       " 'useful']"
      ]
     },
     "execution_count": 14,
     "metadata": {},
     "output_type": "execute_result"
    }
   ],
   "source": [
    "words=word_tokenize(text)\n",
    "words"
   ]
  },
  {
   "cell_type": "code",
   "execution_count": 16,
   "id": "e8c098e2",
   "metadata": {},
   "outputs": [],
   "source": [
    "from nltk import SnowballStemmer\n",
    "s=SnowballStemmer(\"english\")\n",
    "li=[]\n",
    "for i in words:\n",
    "    w=s.stem(i)\n",
    "    li.append(w)\n",
    "    "
   ]
  },
  {
   "cell_type": "code",
   "execution_count": 17,
   "id": "d63cb422",
   "metadata": {},
   "outputs": [
    {
     "data": {
      "text/plain": [
       "['data',\n",
       " 'scienc',\n",
       " 'is',\n",
       " 'a',\n",
       " 'veri',\n",
       " 'use',\n",
       " 'languag',\n",
       " 'which',\n",
       " 'is',\n",
       " 'use',\n",
       " 'to',\n",
       " 'get',\n",
       " 'awesom',\n",
       " 'insight',\n",
       " 'into',\n",
       " 'the',\n",
       " 'data',\n",
       " 'for',\n",
       " 'compani',\n",
       " 'profit',\n",
       " '.',\n",
       " 'data',\n",
       " 'is',\n",
       " 'use']"
      ]
     },
     "execution_count": 17,
     "metadata": {},
     "output_type": "execute_result"
    }
   ],
   "source": [
    "li"
   ]
  },
  {
   "cell_type": "code",
   "execution_count": 19,
   "id": "f7a7c481",
   "metadata": {},
   "outputs": [],
   "source": [
    "from nltk import LancasterStemmer\n",
    "s=LancasterStemmer()\n",
    "li=[]\n",
    "for i in words:\n",
    "    w=s.stem(i)\n",
    "    li.append(w)\n",
    "    "
   ]
  },
  {
   "cell_type": "code",
   "execution_count": 20,
   "id": "c27f3501",
   "metadata": {},
   "outputs": [
    {
     "data": {
      "text/plain": [
       "['dat',\n",
       " 'sci',\n",
       " 'is',\n",
       " 'a',\n",
       " 'very',\n",
       " 'us',\n",
       " 'langu',\n",
       " 'which',\n",
       " 'is',\n",
       " 'us',\n",
       " 'to',\n",
       " 'get',\n",
       " 'awesom',\n",
       " 'insight',\n",
       " 'into',\n",
       " 'the',\n",
       " 'dat',\n",
       " 'for',\n",
       " 'company',\n",
       " 'profit',\n",
       " '.',\n",
       " 'dat',\n",
       " 'is',\n",
       " 'us']"
      ]
     },
     "execution_count": 20,
     "metadata": {},
     "output_type": "execute_result"
    }
   ],
   "source": [
    "li"
   ]
  },
  {
   "cell_type": "code",
   "execution_count": 21,
   "id": "84b13c7e",
   "metadata": {},
   "outputs": [],
   "source": [
    "from nltk import WordNetLemmatizer\n",
    "li2=[]\n",
    "w=WordNetLemmatizer()\n",
    "for i in li:\n",
    "    wr=w.lemmatize(i)\n",
    "    li2.append(wr)"
   ]
  },
  {
   "cell_type": "code",
   "execution_count": 22,
   "id": "bb97eb09",
   "metadata": {},
   "outputs": [
    {
     "data": {
      "text/plain": [
       "['dat',\n",
       " 'sci',\n",
       " 'is',\n",
       " 'a',\n",
       " 'very',\n",
       " 'u',\n",
       " 'langu',\n",
       " 'which',\n",
       " 'is',\n",
       " 'u',\n",
       " 'to',\n",
       " 'get',\n",
       " 'awesom',\n",
       " 'insight',\n",
       " 'into',\n",
       " 'the',\n",
       " 'dat',\n",
       " 'for',\n",
       " 'company',\n",
       " 'profit',\n",
       " '.',\n",
       " 'dat',\n",
       " 'is',\n",
       " 'u']"
      ]
     },
     "execution_count": 22,
     "metadata": {},
     "output_type": "execute_result"
    }
   ],
   "source": [
    "li2"
   ]
  },
  {
   "cell_type": "code",
   "execution_count": 26,
   "id": "56f8d4eb",
   "metadata": {},
   "outputs": [
    {
     "name": "stdout",
     "output_type": "stream",
     "text": [
      "POS Tagginf words [('dat', 'NN'), ('sci', 'NN'), ('is', 'VBZ'), ('a', 'DT'), ('very', 'RB'), ('u', 'JJ'), ('langu', 'NN'), ('which', 'WDT'), ('is', 'VBZ'), ('u', 'JJ'), ('to', 'TO'), ('get', 'VB'), ('awesom', 'JJ'), ('insight', 'NN'), ('into', 'IN'), ('the', 'DT'), ('dat', 'NN'), ('for', 'IN'), ('company', 'NN'), ('profit', 'NN'), ('.', '.'), ('dat', 'NN'), ('is', 'VBZ'), ('u', 'JJ')]\n"
     ]
    }
   ],
   "source": [
    "print(\"POS Tagginf words\", nltk.pos_tag(li2))"
   ]
  },
  {
   "cell_type": "code",
   "execution_count": 27,
   "id": "2b032cba",
   "metadata": {},
   "outputs": [],
   "source": [
    "from nltk.corpus import stopwords\n",
    "sw=stopwords.words(\"english\")"
   ]
  },
  {
   "cell_type": "code",
   "execution_count": 28,
   "id": "58f1e706",
   "metadata": {},
   "outputs": [
    {
     "data": {
      "text/plain": [
       "['i',\n",
       " 'me',\n",
       " 'my',\n",
       " 'myself',\n",
       " 'we',\n",
       " 'our',\n",
       " 'ours',\n",
       " 'ourselves',\n",
       " 'you',\n",
       " \"you're\",\n",
       " \"you've\",\n",
       " \"you'll\",\n",
       " \"you'd\",\n",
       " 'your',\n",
       " 'yours',\n",
       " 'yourself',\n",
       " 'yourselves',\n",
       " 'he',\n",
       " 'him',\n",
       " 'his',\n",
       " 'himself',\n",
       " 'she',\n",
       " \"she's\",\n",
       " 'her',\n",
       " 'hers',\n",
       " 'herself',\n",
       " 'it',\n",
       " \"it's\",\n",
       " 'its',\n",
       " 'itself',\n",
       " 'they',\n",
       " 'them',\n",
       " 'their',\n",
       " 'theirs',\n",
       " 'themselves',\n",
       " 'what',\n",
       " 'which',\n",
       " 'who',\n",
       " 'whom',\n",
       " 'this',\n",
       " 'that',\n",
       " \"that'll\",\n",
       " 'these',\n",
       " 'those',\n",
       " 'am',\n",
       " 'is',\n",
       " 'are',\n",
       " 'was',\n",
       " 'were',\n",
       " 'be',\n",
       " 'been',\n",
       " 'being',\n",
       " 'have',\n",
       " 'has',\n",
       " 'had',\n",
       " 'having',\n",
       " 'do',\n",
       " 'does',\n",
       " 'did',\n",
       " 'doing',\n",
       " 'a',\n",
       " 'an',\n",
       " 'the',\n",
       " 'and',\n",
       " 'but',\n",
       " 'if',\n",
       " 'or',\n",
       " 'because',\n",
       " 'as',\n",
       " 'until',\n",
       " 'while',\n",
       " 'of',\n",
       " 'at',\n",
       " 'by',\n",
       " 'for',\n",
       " 'with',\n",
       " 'about',\n",
       " 'against',\n",
       " 'between',\n",
       " 'into',\n",
       " 'through',\n",
       " 'during',\n",
       " 'before',\n",
       " 'after',\n",
       " 'above',\n",
       " 'below',\n",
       " 'to',\n",
       " 'from',\n",
       " 'up',\n",
       " 'down',\n",
       " 'in',\n",
       " 'out',\n",
       " 'on',\n",
       " 'off',\n",
       " 'over',\n",
       " 'under',\n",
       " 'again',\n",
       " 'further',\n",
       " 'then',\n",
       " 'once',\n",
       " 'here',\n",
       " 'there',\n",
       " 'when',\n",
       " 'where',\n",
       " 'why',\n",
       " 'how',\n",
       " 'all',\n",
       " 'any',\n",
       " 'both',\n",
       " 'each',\n",
       " 'few',\n",
       " 'more',\n",
       " 'most',\n",
       " 'other',\n",
       " 'some',\n",
       " 'such',\n",
       " 'no',\n",
       " 'nor',\n",
       " 'not',\n",
       " 'only',\n",
       " 'own',\n",
       " 'same',\n",
       " 'so',\n",
       " 'than',\n",
       " 'too',\n",
       " 'very',\n",
       " 's',\n",
       " 't',\n",
       " 'can',\n",
       " 'will',\n",
       " 'just',\n",
       " 'don',\n",
       " \"don't\",\n",
       " 'should',\n",
       " \"should've\",\n",
       " 'now',\n",
       " 'd',\n",
       " 'll',\n",
       " 'm',\n",
       " 'o',\n",
       " 're',\n",
       " 've',\n",
       " 'y',\n",
       " 'ain',\n",
       " 'aren',\n",
       " \"aren't\",\n",
       " 'couldn',\n",
       " \"couldn't\",\n",
       " 'didn',\n",
       " \"didn't\",\n",
       " 'doesn',\n",
       " \"doesn't\",\n",
       " 'hadn',\n",
       " \"hadn't\",\n",
       " 'hasn',\n",
       " \"hasn't\",\n",
       " 'haven',\n",
       " \"haven't\",\n",
       " 'isn',\n",
       " \"isn't\",\n",
       " 'ma',\n",
       " 'mightn',\n",
       " \"mightn't\",\n",
       " 'mustn',\n",
       " \"mustn't\",\n",
       " 'needn',\n",
       " \"needn't\",\n",
       " 'shan',\n",
       " \"shan't\",\n",
       " 'shouldn',\n",
       " \"shouldn't\",\n",
       " 'wasn',\n",
       " \"wasn't\",\n",
       " 'weren',\n",
       " \"weren't\",\n",
       " 'won',\n",
       " \"won't\",\n",
       " 'wouldn',\n",
       " \"wouldn't\"]"
      ]
     },
     "execution_count": 28,
     "metadata": {},
     "output_type": "execute_result"
    }
   ],
   "source": [
    "sw"
   ]
  },
  {
   "cell_type": "code",
   "execution_count": 32,
   "id": "82d58726",
   "metadata": {},
   "outputs": [],
   "source": [
    "final=[]\n",
    "for i in words:\n",
    "    if i not in sw:\n",
    "        final.append(i)\n",
    "        "
   ]
  },
  {
   "cell_type": "code",
   "execution_count": 33,
   "id": "b06af5e2",
   "metadata": {},
   "outputs": [
    {
     "data": {
      "text/plain": [
       "['Data',\n",
       " 'science',\n",
       " 'useful',\n",
       " 'language',\n",
       " 'used',\n",
       " 'get',\n",
       " 'awesome',\n",
       " 'insights',\n",
       " 'data',\n",
       " 'company',\n",
       " 'profit',\n",
       " '.',\n",
       " 'Data',\n",
       " 'useful']"
      ]
     },
     "execution_count": 33,
     "metadata": {},
     "output_type": "execute_result"
    }
   ],
   "source": [
    "final"
   ]
  },
  {
   "cell_type": "code",
   "execution_count": 36,
   "id": "44e54e7b",
   "metadata": {},
   "outputs": [],
   "source": [
    "s=\"\"\n",
    "s=\" \".join(final)"
   ]
  },
  {
   "cell_type": "code",
   "execution_count": 37,
   "id": "f9f87361",
   "metadata": {},
   "outputs": [
    {
     "data": {
      "text/plain": [
       "'Data science useful language used get awesome insights data company profit . Data useful'"
      ]
     },
     "execution_count": 37,
     "metadata": {},
     "output_type": "execute_result"
    }
   ],
   "source": [
    "s"
   ]
  },
  {
   "cell_type": "code",
   "execution_count": 39,
   "id": "98f66a95",
   "metadata": {},
   "outputs": [],
   "source": [
    "from sklearn.feature_extraction.text import TfidfVectorizer\n",
    "tf=TfidfVectorizer()\n",
    "result=tf.fit_transform([text])"
   ]
  },
  {
   "cell_type": "code",
   "execution_count": 41,
   "id": "0f9b1726",
   "metadata": {},
   "outputs": [
    {
     "name": "stdout",
     "output_type": "stream",
     "text": [
      "  (0, 9)\t0.16666666666666666\n",
      "  (0, 1)\t0.16666666666666666\n",
      "  (0, 3)\t0.16666666666666666\n",
      "  (0, 11)\t0.16666666666666666\n",
      "  (0, 6)\t0.16666666666666666\n",
      "  (0, 5)\t0.16666666666666666\n",
      "  (0, 0)\t0.16666666666666666\n",
      "  (0, 4)\t0.16666666666666666\n",
      "  (0, 12)\t0.16666666666666666\n",
      "  (0, 13)\t0.16666666666666666\n",
      "  (0, 16)\t0.16666666666666666\n",
      "  (0, 8)\t0.16666666666666666\n",
      "  (0, 14)\t0.3333333333333333\n",
      "  (0, 15)\t0.16666666666666666\n",
      "  (0, 7)\t0.5\n",
      "  (0, 10)\t0.16666666666666666\n",
      "  (0, 2)\t0.5\n"
     ]
    }
   ],
   "source": [
    "print(result)"
   ]
  },
  {
   "cell_type": "code",
   "execution_count": 43,
   "id": "e491d35d",
   "metadata": {},
   "outputs": [
    {
     "name": "stdout",
     "output_type": "stream",
     "text": [
      "{'data': 2, 'science': 10, 'is': 7, 'very': 15, 'useful': 14, 'language': 8, 'which': 16, 'used': 13, 'to': 12, 'get': 4, 'awesome': 0, 'insights': 5, 'into': 6, 'the': 11, 'for': 3, 'company': 1, 'profit': 9}\n"
     ]
    }
   ],
   "source": [
    "print(tf.vocabulary_)"
   ]
  },
  {
   "cell_type": "code",
   "execution_count": 46,
   "id": "dd027272",
   "metadata": {},
   "outputs": [],
   "source": [
    "bagOfWordsA=words\n",
    "numOfWordsA=dict.fromkeys(words, 0)\n",
    "for word in bagOfWordsA:\n",
    "    numOfWordsA[word] += 1"
   ]
  },
  {
   "cell_type": "code",
   "execution_count": 47,
   "id": "eac70635",
   "metadata": {},
   "outputs": [
    {
     "data": {
      "text/plain": [
       "{'Data': 2,\n",
       " 'science': 1,\n",
       " 'is': 3,\n",
       " 'a': 1,\n",
       " 'very': 1,\n",
       " 'useful': 2,\n",
       " 'language': 1,\n",
       " 'which': 1,\n",
       " 'used': 1,\n",
       " 'to': 1,\n",
       " 'get': 1,\n",
       " 'awesome': 1,\n",
       " 'insights': 1,\n",
       " 'into': 1,\n",
       " 'the': 1,\n",
       " 'data': 1,\n",
       " 'for': 1,\n",
       " 'company': 1,\n",
       " 'profit': 1,\n",
       " '.': 1}"
      ]
     },
     "execution_count": 47,
     "metadata": {},
     "output_type": "execute_result"
    }
   ],
   "source": [
    "numOfWordsA\n"
   ]
  },
  {
   "cell_type": "code",
   "execution_count": 49,
   "id": "36b5d605",
   "metadata": {},
   "outputs": [],
   "source": [
    "total=len(words)\n",
    "tf={}\n",
    "for word,count in numOfWordsA.items():\n",
    "    tf[word]=count/float(total)\n",
    "    "
   ]
  },
  {
   "cell_type": "code",
   "execution_count": 50,
   "id": "d99a311e",
   "metadata": {},
   "outputs": [
    {
     "data": {
      "text/plain": [
       "{'Data': 0.08333333333333333,\n",
       " 'science': 0.041666666666666664,\n",
       " 'is': 0.125,\n",
       " 'a': 0.041666666666666664,\n",
       " 'very': 0.041666666666666664,\n",
       " 'useful': 0.08333333333333333,\n",
       " 'language': 0.041666666666666664,\n",
       " 'which': 0.041666666666666664,\n",
       " 'used': 0.041666666666666664,\n",
       " 'to': 0.041666666666666664,\n",
       " 'get': 0.041666666666666664,\n",
       " 'awesome': 0.041666666666666664,\n",
       " 'insights': 0.041666666666666664,\n",
       " 'into': 0.041666666666666664,\n",
       " 'the': 0.041666666666666664,\n",
       " 'data': 0.041666666666666664,\n",
       " 'for': 0.041666666666666664,\n",
       " 'company': 0.041666666666666664,\n",
       " 'profit': 0.041666666666666664,\n",
       " '.': 0.041666666666666664}"
      ]
     },
     "execution_count": 50,
     "metadata": {},
     "output_type": "execute_result"
    }
   ],
   "source": [
    "tf"
   ]
  },
  {
   "cell_type": "code",
   "execution_count": 55,
   "id": "8f58fa65",
   "metadata": {},
   "outputs": [
    {
     "data": {
      "text/plain": [
       "{'Data': 0.6931471805599453,\n",
       " 'science': 0.6931471805599453,\n",
       " 'is': 0.6931471805599453,\n",
       " 'a': 0.6931471805599453,\n",
       " 'very': 0.6931471805599453,\n",
       " 'useful': 0.6931471805599453,\n",
       " 'language': 0.6931471805599453,\n",
       " 'which': 0.6931471805599453,\n",
       " 'used': 0.6931471805599453,\n",
       " 'to': 0.6931471805599453,\n",
       " 'get': 0.6931471805599453,\n",
       " 'awesome': 0.6931471805599453,\n",
       " 'insights': 0.6931471805599453,\n",
       " 'into': 0.6931471805599453,\n",
       " 'the': 0.6931471805599453,\n",
       " 'data': 0.6931471805599453,\n",
       " 'for': 0.6931471805599453,\n",
       " 'company': 0.6931471805599453,\n",
       " 'profit': 0.6931471805599453,\n",
       " '.': 0.6931471805599453}"
      ]
     },
     "execution_count": 55,
     "metadata": {},
     "output_type": "execute_result"
    }
   ],
   "source": [
    "l=len(sent)\n",
    "import math\n",
    "idf=dict.fromkeys(words,0)\n",
    "for doc in sent:\n",
    "    for w,count in idf.items():\n",
    "        c=0\n",
    "        if w in doc:\n",
    "            c=c+1\n",
    "        if c!=0:\n",
    "            idf[w]=math.log(l/c)\n",
    "        \n",
    "idf   \n",
    "     "
   ]
  },
  {
   "cell_type": "code",
   "execution_count": null,
   "id": "c3f671f8",
   "metadata": {},
   "outputs": [],
   "source": []
  }
 ],
 "metadata": {
  "kernelspec": {
   "display_name": "Python 3 (ipykernel)",
   "language": "python",
   "name": "python3"
  },
  "language_info": {
   "codemirror_mode": {
    "name": "ipython",
    "version": 3
   },
   "file_extension": ".py",
   "mimetype": "text/x-python",
   "name": "python",
   "nbconvert_exporter": "python",
   "pygments_lexer": "ipython3",
   "version": "3.9.12"
  }
 },
 "nbformat": 4,
 "nbformat_minor": 5
}
