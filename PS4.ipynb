{
 "cells": [
  {
   "cell_type": "raw",
   "id": "9e0a5907",
   "metadata": {},
   "source": [
    "Perform the following operations using Python\n",
    "1. Scan all numeric variables for outliers. If there are outliers, use the following techniques to\n",
    "deal with them. a)min max normalization b)z-score normalization c)Box plot\n"
   ]
  },
  {
   "cell_type": "code",
   "execution_count": 14,
   "id": "7fe8e8dc",
   "metadata": {},
   "outputs": [],
   "source": [
    "import pandas as pd\n",
    "import numpy as np\n",
    "import seaborn as sns"
   ]
  },
  {
   "cell_type": "code",
   "execution_count": 15,
   "id": "d5e715fd",
   "metadata": {},
   "outputs": [
    {
     "data": {
      "text/plain": [
       "(1000, 8)"
      ]
     },
     "execution_count": 15,
     "metadata": {},
     "output_type": "execute_result"
    }
   ],
   "source": [
    "df=pd.read_csv('dataset.csv')\n",
    "df.shape"
   ]
  },
  {
   "cell_type": "code",
   "execution_count": 16,
   "id": "664ec38e",
   "metadata": {},
   "outputs": [],
   "source": [
    "li=['math score','reading score','writing score']\n",
    "for i in li:\n",
    "    df[i].fillna(int(df[i].mean()), inplace=True)"
   ]
  },
  {
   "cell_type": "code",
   "execution_count": 17,
   "id": "4a8bc98c",
   "metadata": {},
   "outputs": [
    {
     "data": {
      "text/plain": [
       "gender                         0\n",
       "race/ethnicity                 0\n",
       "parental level of education    0\n",
       "lunch                          0\n",
       "test preparation course        0\n",
       "math score                     0\n",
       "reading score                  0\n",
       "writing score                  0\n",
       "dtype: int64"
      ]
     },
     "execution_count": 17,
     "metadata": {},
     "output_type": "execute_result"
    }
   ],
   "source": [
    "df.isnull().sum()"
   ]
  },
  {
   "cell_type": "code",
   "execution_count": 18,
   "id": "d4452ee1",
   "metadata": {},
   "outputs": [
    {
     "data": {
      "text/plain": [
       "<AxesSubplot:xlabel='math score'>"
      ]
     },
     "execution_count": 18,
     "metadata": {},
     "output_type": "execute_result"
    },
    {
     "data": {
      "image/png": "[encoded data removed]",
      "text/plain": [
       "<Figure size 432x288 with 1 Axes>"
      ]
     },
     "metadata": {
      "needs_background": "light"
     },
     "output_type": "display_data"
    }
   ],
   "source": [
    "sns.boxplot(x=df['math score'])"
   ]
  },
  {
   "cell_type": "code",
   "execution_count": 19,
   "id": "dc04f3ec",
   "metadata": {},
   "outputs": [
    {
     "data": {
      "text/plain": [
       "105.125"
      ]
     },
     "execution_count": 19,
     "metadata": {},
     "output_type": "execute_result"
    }
   ],
   "source": [
    "q1=np.quantile(df['math score'],0.25)\n",
    "q3=np.quantile(df['math score'],0.75)\n",
    "iqr=q3-q1\n",
    "upper_bound=q3+1.5*iqr\n",
    "lower_bound=q1-1.5*iqr\n",
    "upper_bound"
   ]
  },
  {
   "cell_type": "code",
   "execution_count": 20,
   "id": "482a57ee",
   "metadata": {},
   "outputs": [],
   "source": [
    "df2=df[df['math score']>lower_bound]"
   ]
  },
  {
   "cell_type": "code",
   "execution_count": 21,
   "id": "64a49d88",
   "metadata": {},
   "outputs": [
    {
     "data": {
      "text/plain": [
       "<AxesSubplot:xlabel='math score'>"
      ]
     },
     "execution_count": 21,
     "metadata": {},
     "output_type": "execute_result"
    },
    {
     "data": {
      "image/png": "[encoded data removed]",
      "text/plain": [
       "<Figure size 432x288 with 1 Axes>"
      ]
     },
     "metadata": {
      "needs_background": "light"
     },
     "output_type": "display_data"
    }
   ],
   "source": [
    "sns.boxplot(x=df2['math score'])"
   ]
  },
  {
   "cell_type": "code",
   "execution_count": 30,
   "id": "56526d91",
   "metadata": {},
   "outputs": [
    {
     "name": "stdout",
     "output_type": "stream",
     "text": [
      "mean of the dataset is 66.045\n",
      "std. deviation is 15.08253874518478\n"
     ]
    },
    {
     "data": {
      "text/plain": [
       "[98.0, 99.0, 100.0, 99.0, 100.0, 100.0, 100.0, 100.0, 98.0, 100.0, 98.0, 100.0]"
      ]
     },
     "execution_count": 30,
     "metadata": {},
     "output_type": "execute_result"
    }
   ],
   "source": [
    "mean = np.mean(df['math score'])\n",
    "std = np.std(df['math score'])\n",
    "print('mean of the dataset is', mean)\n",
    "print('std. deviation is', std)\n",
    "threshold = 2.1\n",
    "outlier = []\n",
    "for i in df['math score']:\n",
    "    z = (i-mean)/std\n",
    "#     print(z)\n",
    "    if z > threshold:\n",
    "        outlier.append(i)\n",
    "outlier"
   ]
  },
  {
   "cell_type": "code",
   "execution_count": null,
   "id": "625c8e0d",
   "metadata": {},
   "outputs": [],
   "source": []
  }
 ],
 "metadata": {
  "kernelspec": {
   "display_name": "Python 3 (ipykernel)",
   "language": "python",
   "name": "python3"
  },
  "language_info": {
   "codemirror_mode": {
    "name": "ipython",
    "version": 3
   },
   "file_extension": ".py",
   "mimetype": "text/x-python",
   "name": "python",
   "nbconvert_exporter": "python",
   "pygments_lexer": "ipython3",
   "version": "3.9.12"
  }
 },
 "nbformat": 4,
 "nbformat_minor": 5
}
