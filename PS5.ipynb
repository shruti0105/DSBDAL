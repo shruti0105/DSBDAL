{
 "cells": [
  {
   "cell_type": "raw",
   "id": "e70414b9",
   "metadata": {},
   "source": [
    "1. Provide summary statistics (mean, median, minimum, maximum, standard deviation) for a\n",
    "dataset (age, income etc.) with numeric variables grouped by one of the qualitative (categorical)\n",
    "variable. For example, if your categorical variable is age groups and quantitative variable is\n",
    "income, then provide summary statistics of income grouped by the age groups. Create a list that\n",
    "contains a numeric value for each response to the categorical variable."
   ]
  },
  {
   "cell_type": "code",
   "execution_count": 1,
   "id": "2b4f9114",
   "metadata": {},
   "outputs": [],
   "source": [
    "import numpy as np\n",
    "import pandas as pd"
   ]
  },
  {
   "cell_type": "code",
   "execution_count": 2,
   "id": "f938d610",
   "metadata": {},
   "outputs": [],
   "source": [
    "df=pd.read_csv('nba.csv')"
   ]
  },
  {
   "cell_type": "code",
   "execution_count": 3,
   "id": "34d5164d",
   "metadata": {},
   "outputs": [],
   "source": [
    "df.dropna(inplace=True)"
   ]
  },
  {
   "cell_type": "code",
   "execution_count": 4,
   "id": "ae8a06be",
   "metadata": {},
   "outputs": [
    {
     "data": {
      "text/html": [
       "<div>\n",
       "<style scoped>\n",
       "    .dataframe tbody tr th:only-of-type {\n",
       "        vertical-align: middle;\n",
       "    }\n",
       "\n",
       "    .dataframe tbody tr th {\n",
       "        vertical-align: top;\n",
       "    }\n",
       "\n",
       "    .dataframe thead th {\n",
       "        text-align: right;\n",
       "    }\n",
       "</style>\n",
       "<table border=\"1\" class=\"dataframe\">\n",
       "  <thead>\n",
       "    <tr style=\"text-align: right;\">\n",
       "      <th></th>\n",
       "      <th>Name</th>\n",
       "      <th>Team</th>\n",
       "      <th>Number</th>\n",
       "      <th>Position</th>\n",
       "      <th>Age</th>\n",
       "      <th>Height</th>\n",
       "      <th>Weight</th>\n",
       "      <th>College</th>\n",
       "      <th>Salary</th>\n",
       "    </tr>\n",
       "  </thead>\n",
       "  <tbody>\n",
       "    <tr>\n",
       "      <th>0</th>\n",
       "      <td>Avery Bradley</td>\n",
       "      <td>Boston Celtics</td>\n",
       "      <td>0.0</td>\n",
       "      <td>PG</td>\n",
       "      <td>25.0</td>\n",
       "      <td>6-2</td>\n",
       "      <td>180.0</td>\n",
       "      <td>Texas</td>\n",
       "      <td>7730337.0</td>\n",
       "    </tr>\n",
       "    <tr>\n",
       "      <th>1</th>\n",
       "      <td>Jae Crowder</td>\n",
       "      <td>Boston Celtics</td>\n",
       "      <td>99.0</td>\n",
       "      <td>SF</td>\n",
       "      <td>25.0</td>\n",
       "      <td>6-6</td>\n",
       "      <td>235.0</td>\n",
       "      <td>Marquette</td>\n",
       "      <td>6796117.0</td>\n",
       "    </tr>\n",
       "    <tr>\n",
       "      <th>3</th>\n",
       "      <td>R.J. Hunter</td>\n",
       "      <td>Boston Celtics</td>\n",
       "      <td>28.0</td>\n",
       "      <td>SG</td>\n",
       "      <td>22.0</td>\n",
       "      <td>6-5</td>\n",
       "      <td>185.0</td>\n",
       "      <td>Georgia State</td>\n",
       "      <td>1148640.0</td>\n",
       "    </tr>\n",
       "    <tr>\n",
       "      <th>6</th>\n",
       "      <td>Jordan Mickey</td>\n",
       "      <td>Boston Celtics</td>\n",
       "      <td>55.0</td>\n",
       "      <td>PF</td>\n",
       "      <td>21.0</td>\n",
       "      <td>6-8</td>\n",
       "      <td>235.0</td>\n",
       "      <td>LSU</td>\n",
       "      <td>1170960.0</td>\n",
       "    </tr>\n",
       "    <tr>\n",
       "      <th>7</th>\n",
       "      <td>Kelly Olynyk</td>\n",
       "      <td>Boston Celtics</td>\n",
       "      <td>41.0</td>\n",
       "      <td>C</td>\n",
       "      <td>25.0</td>\n",
       "      <td>7-0</td>\n",
       "      <td>238.0</td>\n",
       "      <td>Gonzaga</td>\n",
       "      <td>2165160.0</td>\n",
       "    </tr>\n",
       "  </tbody>\n",
       "</table>\n",
       "</div>"
      ],
      "text/plain": [
       "            Name            Team  Number Position   Age Height  Weight   \n",
       "0  Avery Bradley  Boston Celtics     0.0       PG  25.0    6-2   180.0  \\\n",
       "1    Jae Crowder  Boston Celtics    99.0       SF  25.0    6-6   235.0   \n",
       "3    R.J. Hunter  Boston Celtics    28.0       SG  22.0    6-5   185.0   \n",
       "6  Jordan Mickey  Boston Celtics    55.0       PF  21.0    6-8   235.0   \n",
       "7   Kelly Olynyk  Boston Celtics    41.0        C  25.0    7-0   238.0   \n",
       "\n",
       "         College     Salary  \n",
       "0          Texas  7730337.0  \n",
       "1      Marquette  6796117.0  \n",
       "3  Georgia State  1148640.0  \n",
       "6            LSU  1170960.0  \n",
       "7        Gonzaga  2165160.0  "
      ]
     },
     "execution_count": 4,
     "metadata": {},
     "output_type": "execute_result"
    }
   ],
   "source": [
    "df.head()"
   ]
  },
  {
   "cell_type": "code",
   "execution_count": 5,
   "id": "ebfb603f",
   "metadata": {},
   "outputs": [
    {
     "data": {
      "text/plain": [
       "19.0"
      ]
     },
     "execution_count": 5,
     "metadata": {},
     "output_type": "execute_result"
    }
   ],
   "source": [
    "df['Age'].min()"
   ]
  },
  {
   "cell_type": "code",
   "execution_count": 6,
   "id": "6547a418",
   "metadata": {},
   "outputs": [],
   "source": [
    "labels=['15-20','21-24','25-29','30-34','35-40']\n",
    "bins=[15,21,25,30,35,40]\n",
    "df[\"Age\"]=pd.cut(df[\"Age\"],labels=labels,bins=bins,right=False)"
   ]
  },
  {
   "cell_type": "code",
   "execution_count": 7,
   "id": "bd8f2715",
   "metadata": {},
   "outputs": [
    {
     "data": {
      "text/html": [
       "<div>\n",
       "<style scoped>\n",
       "    .dataframe tbody tr th:only-of-type {\n",
       "        vertical-align: middle;\n",
       "    }\n",
       "\n",
       "    .dataframe tbody tr th {\n",
       "        vertical-align: top;\n",
       "    }\n",
       "\n",
       "    .dataframe thead th {\n",
       "        text-align: right;\n",
       "    }\n",
       "</style>\n",
       "<table border=\"1\" class=\"dataframe\">\n",
       "  <thead>\n",
       "    <tr style=\"text-align: right;\">\n",
       "      <th></th>\n",
       "      <th>Name</th>\n",
       "      <th>Team</th>\n",
       "      <th>Number</th>\n",
       "      <th>Position</th>\n",
       "      <th>Age</th>\n",
       "      <th>Height</th>\n",
       "      <th>Weight</th>\n",
       "      <th>College</th>\n",
       "      <th>Salary</th>\n",
       "    </tr>\n",
       "  </thead>\n",
       "  <tbody>\n",
       "    <tr>\n",
       "      <th>0</th>\n",
       "      <td>Avery Bradley</td>\n",
       "      <td>Boston Celtics</td>\n",
       "      <td>0.0</td>\n",
       "      <td>PG</td>\n",
       "      <td>25-29</td>\n",
       "      <td>6-2</td>\n",
       "      <td>180.0</td>\n",
       "      <td>Texas</td>\n",
       "      <td>7730337.0</td>\n",
       "    </tr>\n",
       "    <tr>\n",
       "      <th>1</th>\n",
       "      <td>Jae Crowder</td>\n",
       "      <td>Boston Celtics</td>\n",
       "      <td>99.0</td>\n",
       "      <td>SF</td>\n",
       "      <td>25-29</td>\n",
       "      <td>6-6</td>\n",
       "      <td>235.0</td>\n",
       "      <td>Marquette</td>\n",
       "      <td>6796117.0</td>\n",
       "    </tr>\n",
       "    <tr>\n",
       "      <th>3</th>\n",
       "      <td>R.J. Hunter</td>\n",
       "      <td>Boston Celtics</td>\n",
       "      <td>28.0</td>\n",
       "      <td>SG</td>\n",
       "      <td>21-24</td>\n",
       "      <td>6-5</td>\n",
       "      <td>185.0</td>\n",
       "      <td>Georgia State</td>\n",
       "      <td>1148640.0</td>\n",
       "    </tr>\n",
       "    <tr>\n",
       "      <th>6</th>\n",
       "      <td>Jordan Mickey</td>\n",
       "      <td>Boston Celtics</td>\n",
       "      <td>55.0</td>\n",
       "      <td>PF</td>\n",
       "      <td>21-24</td>\n",
       "      <td>6-8</td>\n",
       "      <td>235.0</td>\n",
       "      <td>LSU</td>\n",
       "      <td>1170960.0</td>\n",
       "    </tr>\n",
       "    <tr>\n",
       "      <th>7</th>\n",
       "      <td>Kelly Olynyk</td>\n",
       "      <td>Boston Celtics</td>\n",
       "      <td>41.0</td>\n",
       "      <td>C</td>\n",
       "      <td>25-29</td>\n",
       "      <td>7-0</td>\n",
       "      <td>238.0</td>\n",
       "      <td>Gonzaga</td>\n",
       "      <td>2165160.0</td>\n",
       "    </tr>\n",
       "  </tbody>\n",
       "</table>\n",
       "</div>"
      ],
      "text/plain": [
       "            Name            Team  Number Position    Age Height  Weight   \n",
       "0  Avery Bradley  Boston Celtics     0.0       PG  25-29    6-2   180.0  \\\n",
       "1    Jae Crowder  Boston Celtics    99.0       SF  25-29    6-6   235.0   \n",
       "3    R.J. Hunter  Boston Celtics    28.0       SG  21-24    6-5   185.0   \n",
       "6  Jordan Mickey  Boston Celtics    55.0       PF  21-24    6-8   235.0   \n",
       "7   Kelly Olynyk  Boston Celtics    41.0        C  25-29    7-0   238.0   \n",
       "\n",
       "         College     Salary  \n",
       "0          Texas  7730337.0  \n",
       "1      Marquette  6796117.0  \n",
       "3  Georgia State  1148640.0  \n",
       "6            LSU  1170960.0  \n",
       "7        Gonzaga  2165160.0  "
      ]
     },
     "execution_count": 7,
     "metadata": {},
     "output_type": "execute_result"
    }
   ],
   "source": [
    "df.head()"
   ]
  },
  {
   "cell_type": "code",
   "execution_count": 8,
   "id": "e9ea05a1",
   "metadata": {},
   "outputs": [
    {
     "data": {
      "text/plain": [
       "Age\n",
       "15-20     5703600.0\n",
       "21-24    16407501.0\n",
       "25-29    20158622.0\n",
       "30-34    22875000.0\n",
       "35-40     5746479.0\n",
       "Name: Salary, dtype: float64"
      ]
     },
     "execution_count": 8,
     "metadata": {},
     "output_type": "execute_result"
    }
   ],
   "source": [
    "df.groupby(\"Age\")[\"Salary\"].max()"
   ]
  },
  {
   "cell_type": "code",
   "execution_count": 9,
   "id": "30cffbc9",
   "metadata": {},
   "outputs": [
    {
     "data": {
      "text/plain": [
       "Age\n",
       "15-20    525093.0\n",
       "21-24     83397.0\n",
       "25-29     55722.0\n",
       "30-34    200600.0\n",
       "35-40    222888.0\n",
       "Name: Salary, dtype: float64"
      ]
     },
     "execution_count": 9,
     "metadata": {},
     "output_type": "execute_result"
    }
   ],
   "source": [
    "df.groupby(\"Age\")[\"Salary\"].min()"
   ]
  },
  {
   "cell_type": "code",
   "execution_count": 10,
   "id": "c34fccab",
   "metadata": {},
   "outputs": [
    {
     "data": {
      "text/plain": [
       "Age\n",
       "15-20    1.523857e+06\n",
       "21-24    3.606876e+06\n",
       "25-29    5.755470e+06\n",
       "30-34    5.868496e+06\n",
       "35-40    1.750739e+06\n",
       "Name: Salary, dtype: float64"
      ]
     },
     "execution_count": 10,
     "metadata": {},
     "output_type": "execute_result"
    }
   ],
   "source": [
    "df.groupby(\"Age\")[\"Salary\"].std()"
   ]
  },
  {
   "cell_type": "code",
   "execution_count": 11,
   "id": "b2a16a9d",
   "metadata": {},
   "outputs": [
    {
     "data": {
      "text/plain": [
       "Age\n",
       "15-20    2.536190e+06\n",
       "21-24    2.874200e+06\n",
       "25-29    5.662061e+06\n",
       "30-34    6.559790e+06\n",
       "35-40    2.540978e+06\n",
       "Name: Salary, dtype: float64"
      ]
     },
     "execution_count": 11,
     "metadata": {},
     "output_type": "execute_result"
    }
   ],
   "source": [
    "df.groupby(\"Age\")[\"Salary\"].mean()"
   ]
  },
  {
   "cell_type": "code",
   "execution_count": 12,
   "id": "b86b0344",
   "metadata": {},
   "outputs": [
    {
     "data": {
      "text/plain": [
       "Age\n",
       "15-20    2239800.0\n",
       "21-24    1500000.0\n",
       "25-29    3185130.0\n",
       "30-34    5000000.0\n",
       "35-40    2170465.0\n",
       "Name: Salary, dtype: float64"
      ]
     },
     "execution_count": 12,
     "metadata": {},
     "output_type": "execute_result"
    }
   ],
   "source": [
    "df.groupby(\"Age\")[\"Salary\"].median()"
   ]
  },
  {
   "cell_type": "code",
   "execution_count": 13,
   "id": "a35a7e41",
   "metadata": {},
   "outputs": [
    {
     "data": {
      "text/plain": [
       "Age\n",
       "15-20     17\n",
       "21-24    111\n",
       "25-29    152\n",
       "30-34     61\n",
       "35-40     21\n",
       "Name: Salary, dtype: int64"
      ]
     },
     "execution_count": 13,
     "metadata": {},
     "output_type": "execute_result"
    }
   ],
   "source": [
    "df.groupby(\"Age\")[\"Salary\"].count()"
   ]
  },
  {
   "cell_type": "code",
   "execution_count": 14,
   "id": "9340399a",
   "metadata": {},
   "outputs": [
    {
     "data": {
      "text/html": [
       "<div>\n",
       "<style scoped>\n",
       "    .dataframe tbody tr th:only-of-type {\n",
       "        vertical-align: middle;\n",
       "    }\n",
       "\n",
       "    .dataframe tbody tr th {\n",
       "        vertical-align: top;\n",
       "    }\n",
       "\n",
       "    .dataframe thead th {\n",
       "        text-align: right;\n",
       "    }\n",
       "</style>\n",
       "<table border=\"1\" class=\"dataframe\">\n",
       "  <thead>\n",
       "    <tr style=\"text-align: right;\">\n",
       "      <th></th>\n",
       "      <th>count</th>\n",
       "      <th>mean</th>\n",
       "      <th>std</th>\n",
       "      <th>min</th>\n",
       "      <th>25%</th>\n",
       "      <th>50%</th>\n",
       "      <th>75%</th>\n",
       "      <th>max</th>\n",
       "    </tr>\n",
       "    <tr>\n",
       "      <th>Age</th>\n",
       "      <th></th>\n",
       "      <th></th>\n",
       "      <th></th>\n",
       "      <th></th>\n",
       "      <th></th>\n",
       "      <th></th>\n",
       "      <th></th>\n",
       "      <th></th>\n",
       "    </tr>\n",
       "  </thead>\n",
       "  <tbody>\n",
       "    <tr>\n",
       "      <th>15-20</th>\n",
       "      <td>17.0</td>\n",
       "      <td>2.536190e+06</td>\n",
       "      <td>1.523857e+06</td>\n",
       "      <td>525093.0</td>\n",
       "      <td>1733040.0</td>\n",
       "      <td>2239800.0</td>\n",
       "      <td>2841960.0</td>\n",
       "      <td>5703600.0</td>\n",
       "    </tr>\n",
       "    <tr>\n",
       "      <th>21-24</th>\n",
       "      <td>111.0</td>\n",
       "      <td>2.874200e+06</td>\n",
       "      <td>3.606876e+06</td>\n",
       "      <td>83397.0</td>\n",
       "      <td>845059.0</td>\n",
       "      <td>1500000.0</td>\n",
       "      <td>3121518.0</td>\n",
       "      <td>16407501.0</td>\n",
       "    </tr>\n",
       "    <tr>\n",
       "      <th>25-29</th>\n",
       "      <td>152.0</td>\n",
       "      <td>5.662061e+06</td>\n",
       "      <td>5.755470e+06</td>\n",
       "      <td>55722.0</td>\n",
       "      <td>981348.0</td>\n",
       "      <td>3185130.0</td>\n",
       "      <td>9147106.5</td>\n",
       "      <td>20158622.0</td>\n",
       "    </tr>\n",
       "    <tr>\n",
       "      <th>30-34</th>\n",
       "      <td>61.0</td>\n",
       "      <td>6.559790e+06</td>\n",
       "      <td>5.868496e+06</td>\n",
       "      <td>200600.0</td>\n",
       "      <td>2250000.0</td>\n",
       "      <td>5000000.0</td>\n",
       "      <td>8229375.0</td>\n",
       "      <td>22875000.0</td>\n",
       "    </tr>\n",
       "    <tr>\n",
       "      <th>35-40</th>\n",
       "      <td>21.0</td>\n",
       "      <td>2.540978e+06</td>\n",
       "      <td>1.750739e+06</td>\n",
       "      <td>222888.0</td>\n",
       "      <td>947276.0</td>\n",
       "      <td>2170465.0</td>\n",
       "      <td>3750000.0</td>\n",
       "      <td>5746479.0</td>\n",
       "    </tr>\n",
       "  </tbody>\n",
       "</table>\n",
       "</div>"
      ],
      "text/plain": [
       "       count          mean           std       min        25%        50%   \n",
       "Age                                                                        \n",
       "15-20   17.0  2.536190e+06  1.523857e+06  525093.0  1733040.0  2239800.0  \\\n",
       "21-24  111.0  2.874200e+06  3.606876e+06   83397.0   845059.0  1500000.0   \n",
       "25-29  152.0  5.662061e+06  5.755470e+06   55722.0   981348.0  3185130.0   \n",
       "30-34   61.0  6.559790e+06  5.868496e+06  200600.0  2250000.0  5000000.0   \n",
       "35-40   21.0  2.540978e+06  1.750739e+06  222888.0   947276.0  2170465.0   \n",
       "\n",
       "             75%         max  \n",
       "Age                           \n",
       "15-20  2841960.0   5703600.0  \n",
       "21-24  3121518.0  16407501.0  \n",
       "25-29  9147106.5  20158622.0  \n",
       "30-34  8229375.0  22875000.0  \n",
       "35-40  3750000.0   5746479.0  "
      ]
     },
     "execution_count": 14,
     "metadata": {},
     "output_type": "execute_result"
    }
   ],
   "source": [
    "df.groupby(\"Age\")[\"Salary\"].describe()"
   ]
  },
  {
   "cell_type": "code",
   "execution_count": 17,
   "id": "8ae2a2a4",
   "metadata": {},
   "outputs": [
    {
     "data": {
      "text/plain": [
       "<AxesSubplot:xlabel='Salary'>"
      ]
     },
     "execution_count": 17,
     "metadata": {},
     "output_type": "execute_result"
    },
    {
     "data": {
      "image/png": "[encoded data removed]",
      "text/plain": [
       "<Figure size 432x288 with 1 Axes>"
      ]
     },
     "metadata": {
      "needs_background": "light"
     },
     "output_type": "display_data"
    }
   ],
   "source": [
    "import seaborn as sns\n",
    "sns.boxplot(x=df[\"Salary\"])"
   ]
  },
  {
   "cell_type": "code",
   "execution_count": null,
   "id": "2cbfdd74",
   "metadata": {},
   "outputs": [],
   "source": []
  }
 ],
 "metadata": {
  "kernelspec": {
   "display_name": "Python 3 (ipykernel)",
   "language": "python",
   "name": "python3"
  },
  "language_info": {
   "codemirror_mode": {
    "name": "ipython",
    "version": 3
   },
   "file_extension": ".py",
   "mimetype": "text/x-python",
   "name": "python",
   "nbconvert_exporter": "python",
   "pygments_lexer": "ipython3",
   "version": "3.9.12"
  }
 },
 "nbformat": 4,
 "nbformat_minor": 5
}
